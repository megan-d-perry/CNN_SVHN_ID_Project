{
  "cells": [
    {
      "cell_type": "markdown",
      "metadata": {
        "id": "Q91KqmCRu64D"
      },
      "source": [
        "# **Convolutional Neural Networks Project: Street View Housing Number Digit Recognition**\n",
        "\n",
        "\n",
        "Welcome to my project on image classification comparing Convolution Neural Networks, using Tensorflow. \n",
        "\n",
        "--------------\n",
        "## **Context** \n",
        "--------------\n",
        "\n",
        "The main objective of the project was to develop a system that could accurately recognize and extract house numbers from images. To achieve this, we compared the latest techniques in computer vision and deep learning to create a robust and scalable solution. The system was trained on a large dataset of images, containing a diverse range of house numbers in different conditions and environments.\n",
        "\n",
        "\n",
        "----------------\n",
        "## **Objective**\n",
        "----------------\n",
        "\n",
        "Building a CNN model that can recognize digits in the house number images.\n",
        "\n",
        "-------------\n",
        "## **Dataset**\n",
        "-------------\n",
        "A subset of the SVHN house number dataset. The dataset is available on Kaggle: https://www.kaggle.com/datasets/stanfordu/street-view-house-numbers"
      ]
    },
    {
      "cell_type": "markdown",
      "metadata": {
        "id": "8z2Z7-OAs8QG"
      },
      "source": [
        "## **Mount the drive**"
      ]
    },
    {
      "cell_type": "code",
      "execution_count": null,
      "metadata": {
        "colab": {
          "base_uri": "https://localhost:8080/"
        },
        "id": "03lDyQUuef7z",
        "outputId": "92be63a5-ecf5-43e7-fc62-801675bc38f7"
      },
      "outputs": [
        {
          "output_type": "stream",
          "name": "stdout",
          "text": [
            "Mounted at /content/drive\n"
          ]
        }
      ],
      "source": [
        "from google.colab import drive\n",
        "\n",
        "drive.mount('/content/drive')"
      ]
    },
    {
      "cell_type": "markdown",
      "metadata": {
        "id": "C8U3DUa3eNsT"
      },
      "source": [
        "## **Importing the necessary libraries**"
      ]
    },
    {
      "cell_type": "code",
      "execution_count": null,
      "metadata": {
        "id": "-dVzeuF3eQx1"
      },
      "outputs": [],
      "source": [
        "import numpy as np\n",
        "\n",
        "import pandas as pd\n",
        "\n",
        "import matplotlib.pyplot as plt\n",
        "\n",
        "import seaborn as sns\n",
        "\n",
        "from sklearn.model_selection import train_test_split\n",
        "\n",
        "from sklearn.preprocessing import MinMaxScaler\n",
        "\n",
        "import tensorflow as tf\n",
        "\n",
        "from tensorflow.keras.models import Sequential\n",
        "\n",
        "from tensorflow.keras.layers import Dense, Conv2D, MaxPooling2D, BatchNormalization, Dropout, Flatten, LeakyReLU #fixed typo, MaxPool2D -> MaxPooling2D\n",
        "\n",
        "from tensorflow.keras.losses import categorical_crossentropy\n",
        "\n",
        "from tensorflow.keras.optimizers import Adam\n",
        "\n",
        "from tensorflow.keras.utils import to_categorical"
      ]
    },
    {
      "cell_type": "markdown",
      "metadata": {
        "id": "ucnevGLoyKf_"
      },
      "source": [
        "**checking the version of tensorflow.**"
      ]
    },
    {
      "cell_type": "code",
      "execution_count": null,
      "metadata": {
        "colab": {
          "base_uri": "https://localhost:8080/"
        },
        "id": "W5as47YxyJVk",
        "outputId": "23635723-449f-42ce-92af-824affcd057b"
      },
      "outputs": [
        {
          "output_type": "stream",
          "name": "stdout",
          "text": [
            "2.9.2\n"
          ]
        }
      ],
      "source": [
        "print(tf.__version__)"
      ]
    },
    {
      "cell_type": "markdown",
      "metadata": {
        "id": "8lsux2ZwyTTR"
      },
      "source": [
        "## **Load the dataset**\n",
        "\n",
        "- Load the dataset, a .h5 file.\n",
        "- Split the data into the train and the test dataset."
      ]
    },
    {
      "cell_type": "code",
      "execution_count": null,
      "metadata": {
        "id": "BApX9qgNsqV0",
        "scrolled": true
      },
      "outputs": [],
      "source": [
        "import h5py\n",
        "\n",
        "# Open the file as read only\n",
        "# User can make changes in the path as required\n",
        "\n",
        "h5f = h5py.File('/content/drive/MyDrive/DL project/SVHN_single_grey1.h5', 'r')\n",
        "\n",
        "# Load the the train and the test dataset\n",
        "\n",
        "X_train = h5f['X_train'][:]        \n",
        "\n",
        "y_train = h5f['y_train'][:]\n",
        "\n",
        "X_test = h5f['X_test'][:]\n",
        "\n",
        "y_test = h5f['y_test'][:]\n",
        "\n",
        "\n",
        "# Close this file\n",
        "\n",
        "h5f.close()"
      ]
    },
    {
      "cell_type": "markdown",
      "metadata": {
        "id": "hVe0CYpUgj7w"
      },
      "source": [
        "check the number of images in the training and the testing dataset."
      ]
    },
    {
      "cell_type": "code",
      "execution_count": null,
      "metadata": {
        "colab": {
          "base_uri": "https://localhost:8080/"
        },
        "id": "y3lwKpOefkpA",
        "outputId": "91f75a3f-4fb2-4e84-c49b-b0d3b7d0dc5f"
      },
      "outputs": [
        {
          "output_type": "execute_result",
          "data": {
            "text/plain": [
              "(42000, 18000)"
            ]
          },
          "metadata": {},
          "execution_count": 5
        }
      ],
      "source": [
        "len(X_train), len(X_test)"
      ]
    },
    {
      "cell_type": "markdown",
      "metadata": {
        "id": "kxODV6HKykuc"
      },
      "source": [
        "## **Visualizing images**\n"
      ]
    },
    {
      "cell_type": "code",
      "execution_count": null,
      "metadata": {
        "colab": {
          "base_uri": "https://localhost:8080/",
          "height": 96
        },
        "id": "Bvsc8ytHsqWD",
        "outputId": "3810509f-1abe-4b54-b63c-b439ce533939"
      },
      "outputs": [
        {
          "output_type": "display_data",
          "data": {
            "text/plain": [
              "<Figure size 720x72 with 10 Axes>"
            ],
            "image/png": "[encoded data removed]"
          },
          "metadata": {
            "needs_background": "light"
          }
        },
        {
          "output_type": "stream",
          "name": "stdout",
          "text": [
            "label for each of the above image: [2 6 7 4 4 0 3 0 7 3]\n"
          ]
        }
      ],
      "source": [
        "# Visualizing the first 10 images in the dataset and printing their labels\n",
        "\n",
        "%matplotlib inline\n",
        "\n",
        "import matplotlib.pyplot as plt\n",
        "\n",
        "plt.figure(figsize = (10, 1))\n",
        "\n",
        "for i in range(10):\n",
        "\n",
        "    plt.subplot(1, 10, i+1)\n",
        "    \n",
        "    plt.imshow(X_train[i], cmap = \"gray\")  # Write the function to visualize images\n",
        "\n",
        "    plt.axis('off')\n",
        "\n",
        "plt.show()\n",
        "\n",
        "print('label for each of the above image: %s' % (y_train[0:10]))"
      ]
    },
    {
      "cell_type": "markdown",
      "metadata": {
        "id": "kzoyeXHOy80N"
      },
      "source": [
        "## **Data preparation**\n",
        "\n",
        "- Print the shape and the array of pixels for the first image in the training dataset.\n",
        "- Reshape the train and the test dataset because we always have to give a 4D array as input to CNNs.\n",
        "- Normalize the train and the test dataset by dividing by 255.\n",
        "- Print the new shapes of the train and the test dataset.\n",
        "- One-hot encode the target variable."
      ]
    },
    {
      "cell_type": "code",
      "execution_count": null,
      "metadata": {
        "colab": {
          "base_uri": "https://localhost:8080/"
        },
        "id": "NqndzQXng9rL",
        "outputId": "b25f0939-5f35-4ae1-a749-94b9f34c8586"
      },
      "outputs": [
        {
          "output_type": "stream",
          "name": "stdout",
          "text": [
            "Shape: (32, 32)\n",
            "\n",
            "First image:\n",
            " [[ 33.0704  30.2601  26.852  ...  71.4471  58.2204  42.9939]\n",
            " [ 25.2283  25.5533  29.9765 ... 113.0209 103.3639  84.2949]\n",
            " [ 26.2775  22.6137  40.4763 ... 113.3028 121.775  115.4228]\n",
            " ...\n",
            " [ 28.5502  36.212   45.0801 ...  24.1359  25.0927  26.0603]\n",
            " [ 38.4352  26.4733  23.2717 ...  28.1094  29.4683  30.0661]\n",
            " [ 50.2984  26.0773  24.0389 ...  49.6682  50.853   53.0377]]\n"
          ]
        }
      ],
      "source": [
        "# Shape and the array of pixels for the first image\n",
        "\n",
        "print(\"Shape:\", X_train[0].shape)\n",
        "\n",
        "print()\n",
        "\n",
        "print(\"First image:\\n\", X_train[0])"
      ]
    },
    {
      "cell_type": "code",
      "execution_count": null,
      "metadata": {
        "id": "D9YPwf9ysqWU"
      },
      "outputs": [],
      "source": [
        "# Reshaping the dataset to be able to pass them to CNNs. Remember that we always have to give a 4D array as input to CNNs\n",
        "\n",
        "X_train = X_train.reshape(X_train.shape[0], 32, 32, 1)\n",
        "\n",
        "X_test = X_test.reshape(X_test.shape[0], 32, 32, 1)\n",
        "\n"
      ]
    },
    {
      "cell_type": "code",
      "execution_count": null,
      "metadata": {
        "id": "q_yUUTp_mUzB"
      },
      "outputs": [],
      "source": [
        "# Normalize inputs from 0-255 to 0-1\n",
        "\n",
        "X_train = X_train /255.0\n",
        "\n",
        "X_test = X_test /255.0"
      ]
    },
    {
      "cell_type": "code",
      "execution_count": null,
      "metadata": {
        "colab": {
          "base_uri": "https://localhost:8080/"
        },
        "id": "t7FSqOpamWkH",
        "outputId": "2bce5f00-2556-4ea0-8b60-9b7386f7ea94"
      },
      "outputs": [
        {
          "output_type": "stream",
          "name": "stdout",
          "text": [
            "Training set: (42000, 32, 32, 1) (42000,)\n",
            "Test set: (18000, 32, 32, 1) (18000,)\n"
          ]
        }
      ],
      "source": [
        "# New shape \n",
        "\n",
        "print('Training set:', X_train.shape, y_train.shape)\n",
        "\n",
        "print('Test set:', X_test.shape, y_test.shape)"
      ]
    },
    {
      "cell_type": "code",
      "execution_count": null,
      "metadata": {
        "colab": {
          "base_uri": "https://localhost:8080/"
        },
        "id": "zL0lYER4sqWw",
        "outputId": "8db2a105-0ad9-445b-d4e4-45739af17d05"
      },
      "outputs": [
        {
          "output_type": "execute_result",
          "data": {
            "text/plain": [
              "array([[0., 1., 0., ..., 0., 0., 0.],\n",
              "       [0., 0., 0., ..., 1., 0., 0.],\n",
              "       [0., 0., 1., ..., 0., 0., 0.],\n",
              "       ...,\n",
              "       [0., 0., 0., ..., 1., 0., 0.],\n",
              "       [0., 0., 0., ..., 0., 0., 1.],\n",
              "       [0., 0., 1., ..., 0., 0., 0.]], dtype=float32)"
            ]
          },
          "metadata": {},
          "execution_count": 11
        }
      ],
      "source": [
        "# Write the function and appropriate variable name to one-hot encode the output\n",
        "\n",
        "y_train = tf.keras.utils.to_categorical(y_train)\n",
        "\n",
        "y_test = tf.keras.utils.to_categorical(y_test)\n",
        "\n",
        "# test labels\n",
        "\n",
        "y_test       \n",
        "#y_train"
      ]
    },
    {
      "cell_type": "code",
      "execution_count": null,
      "metadata": {
        "id": "ZY5pyF4-KDNt"
      },
      "outputs": [],
      "source": [
        "# Fixing the seed for random number generators\n",
        "\n",
        "np.random.seed(42)\n",
        "\n",
        "import random\n",
        "\n",
        "random.seed(42)\n",
        "\n",
        "tf.random.set_seed(42)"
      ]
    },
    {
      "cell_type": "code",
      "execution_count": null,
      "metadata": {
        "id": "Cmi81Gr5sqW-"
      },
      "outputs": [],
      "source": [
        "# Define the model\n",
        "\n",
        "def cnn_model_1():\n",
        "\n",
        "    model = Sequential() \n",
        "    \n",
        "    # Add layers as per the architecture mentioned above in the same sequence\n",
        "\n",
        "    model.add(Conv2D(filters = 16, kernel_size = (3, 3), padding = \"same\", input_shape = (32, 32, 1))) #first Convolutional layer with 16 filters and the kernel size of 3x3, and 'same' padding\n",
        "\n",
        "    model.add(LeakyReLU(0.1))     #LeakyReLu layer, slope equal to 0.1\n",
        "\n",
        "    model.add(Conv2D(filters = 32, kernel_size = (3, 3), padding = 'same'))   # second Convolutional layer with 32 filters and the kernel size of 3x3 with 'same' padding\n",
        "\n",
        "    model.add(LeakyReLU(0.1)) # LeakyRelu with the slope equal to 0.1\n",
        "\n",
        "    model.add(MaxPooling2D(pool_size = (2, 2))) #max-pooling layer with a pool size of 2x2\n",
        "\n",
        "    model.add(Flatten()) #Flatten the output from the previous layer\n",
        "\n",
        "    model.add(Dense(32)) #dense layer with 32 nodes\n",
        "\n",
        "    model.add(LeakyReLU(0.1)) #LeakyRelu layer with the slope equal to 0.1\n",
        "\n",
        "    model.add(Dense(10, activation = 'softmax')) #final output layer with nodes equal to the number of classes, i.e., 10 and 'softmax' as the activation function\n",
        "    \n",
        "    # Compile the model\n",
        "\n",
        "    model.compile(loss = 'categorical_crossentropy',\n",
        "    \n",
        "    # Using Adam optimizer with learning rate 0.001\n",
        "    optimizer = tf.keras.optimizers.Adam(learning_rate = 0.001),  \n",
        "  \n",
        "\n",
        "    metrics=['accuracy'])   \n",
        "    \n",
        "    return model #without fitting"
      ]
    },
    {
      "cell_type": "code",
      "execution_count": null,
      "metadata": {
        "id": "bGCUI_xsImnH"
      },
      "outputs": [],
      "source": [
        "# Build the model, storing output in new variable\n",
        "\n",
        "model_1 = cnn_model_1()"
      ]
    },
    {
      "cell_type": "code",
      "execution_count": null,
      "metadata": {
        "colab": {
          "base_uri": "https://localhost:8080/"
        },
        "id": "ckJsLdmdQadZ",
        "outputId": "598677b5-9383-4da2-a321-56256fb6c440"
      },
      "outputs": [
        {
          "output_type": "stream",
          "name": "stdout",
          "text": [
            "Model: \"sequential\"\n",
            "_________________________________________________________________\n",
            " Layer (type)                Output Shape              Param #   \n",
            "=================================================================\n",
            " conv2d (Conv2D)             (None, 32, 32, 16)        160       \n",
            "                                                                 \n",
            " leaky_re_lu (LeakyReLU)     (None, 32, 32, 16)        0         \n",
            "                                                                 \n",
            " conv2d_1 (Conv2D)           (None, 32, 32, 32)        4640      \n",
            "                                                                 \n",
            " leaky_re_lu_1 (LeakyReLU)   (None, 32, 32, 32)        0         \n",
            "                                                                 \n",
            " max_pooling2d (MaxPooling2D  (None, 16, 16, 32)       0         \n",
            " )                                                               \n",
            "                                                                 \n",
            " flatten (Flatten)           (None, 8192)              0         \n",
            "                                                                 \n",
            " dense (Dense)               (None, 32)                262176    \n",
            "                                                                 \n",
            " leaky_re_lu_2 (LeakyReLU)   (None, 32)                0         \n",
            "                                                                 \n",
            " dense_1 (Dense)             (None, 10)                330       \n",
            "                                                                 \n",
            "=================================================================\n",
            "Total params: 267,306\n",
            "Trainable params: 267,306\n",
            "Non-trainable params: 0\n",
            "_________________________________________________________________\n"
          ]
        }
      ],
      "source": [
        "# Print the model summary\n",
        "\n",
        "model_1.summary()"
      ]
    },
    {
      "cell_type": "code",
      "execution_count": null,
      "metadata": {
        "colab": {
          "base_uri": "https://localhost:8080/"
        },
        "id": "3Fy3Dif_zcCk",
        "outputId": "fcd6365f-fa70-40f3-90dc-bff7b29dfe17"
      },
      "outputs": [
        {
          "output_type": "stream",
          "name": "stdout",
          "text": [
            "Epoch 1/20\n",
            "1050/1050 [==============================] - 12s 4ms/step - loss: 1.2162 - accuracy: 0.5979 - val_loss: 0.6508 - val_accuracy: 0.8101\n",
            "Epoch 2/20\n",
            "1050/1050 [==============================] - 4s 4ms/step - loss: 0.5383 - accuracy: 0.8446 - val_loss: 0.5124 - val_accuracy: 0.8540\n",
            "Epoch 3/20\n",
            "1050/1050 [==============================] - 4s 4ms/step - loss: 0.4411 - accuracy: 0.8679 - val_loss: 0.4892 - val_accuracy: 0.8617\n",
            "Epoch 4/20\n",
            "1050/1050 [==============================] - 4s 4ms/step - loss: 0.3800 - accuracy: 0.8887 - val_loss: 0.4497 - val_accuracy: 0.8737\n",
            "Epoch 5/20\n",
            "1050/1050 [==============================] - 4s 4ms/step - loss: 0.3351 - accuracy: 0.8973 - val_loss: 0.4694 - val_accuracy: 0.8681\n",
            "Epoch 6/20\n",
            "1050/1050 [==============================] - 6s 5ms/step - loss: 0.2972 - accuracy: 0.9106 - val_loss: 0.4599 - val_accuracy: 0.8726\n",
            "Epoch 7/20\n",
            "1050/1050 [==============================] - 4s 4ms/step - loss: 0.2664 - accuracy: 0.9178 - val_loss: 0.4491 - val_accuracy: 0.8774\n",
            "Epoch 8/20\n",
            "1050/1050 [==============================] - 4s 4ms/step - loss: 0.2391 - accuracy: 0.9267 - val_loss: 0.4726 - val_accuracy: 0.8718\n",
            "Epoch 9/20\n",
            "1050/1050 [==============================] - 4s 4ms/step - loss: 0.2157 - accuracy: 0.9332 - val_loss: 0.4655 - val_accuracy: 0.8781\n",
            "Epoch 10/20\n",
            "1050/1050 [==============================] - 4s 4ms/step - loss: 0.1910 - accuracy: 0.9405 - val_loss: 0.4827 - val_accuracy: 0.8754\n",
            "Epoch 11/20\n",
            "1050/1050 [==============================] - 4s 4ms/step - loss: 0.1741 - accuracy: 0.9450 - val_loss: 0.5394 - val_accuracy: 0.8692\n",
            "Epoch 12/20\n",
            "1050/1050 [==============================] - 4s 4ms/step - loss: 0.1551 - accuracy: 0.9507 - val_loss: 0.5711 - val_accuracy: 0.8708\n",
            "Epoch 13/20\n",
            "1050/1050 [==============================] - 4s 4ms/step - loss: 0.1386 - accuracy: 0.9565 - val_loss: 0.5986 - val_accuracy: 0.8598\n",
            "Epoch 14/20\n",
            "1050/1050 [==============================] - 4s 4ms/step - loss: 0.1249 - accuracy: 0.9613 - val_loss: 0.6046 - val_accuracy: 0.8727\n",
            "Epoch 15/20\n",
            "1050/1050 [==============================] - 4s 4ms/step - loss: 0.1174 - accuracy: 0.9622 - val_loss: 0.6526 - val_accuracy: 0.8704\n",
            "Epoch 16/20\n",
            "1050/1050 [==============================] - 4s 4ms/step - loss: 0.1024 - accuracy: 0.9661 - val_loss: 0.6874 - val_accuracy: 0.8621\n",
            "Epoch 17/20\n",
            "1050/1050 [==============================] - 4s 4ms/step - loss: 0.0903 - accuracy: 0.9705 - val_loss: 0.6917 - val_accuracy: 0.8631\n",
            "Epoch 18/20\n",
            "1050/1050 [==============================] - 4s 4ms/step - loss: 0.0860 - accuracy: 0.9714 - val_loss: 0.7422 - val_accuracy: 0.8696\n",
            "Epoch 19/20\n",
            "1050/1050 [==============================] - 4s 4ms/step - loss: 0.0845 - accuracy: 0.9720 - val_loss: 0.7767 - val_accuracy: 0.8686\n",
            "Epoch 20/20\n",
            "1050/1050 [==============================] - 4s 4ms/step - loss: 0.0715 - accuracy: 0.9766 - val_loss: 0.8124 - val_accuracy: 0.8655\n"
          ]
        }
      ],
      "source": [
        "# Fit the model on the training data with a validation split of 0.2, batch size = 32, verbose = 1, and epochs = 20. Store the model building history to use later for visualization.\n",
        "\n",
        "history_model_1 = model_1.fit(X_train, y_train,\n",
        "            \n",
        "            validation_split = 0.2,\n",
        "\n",
        "            batch_size = 32,\n",
        "            \n",
        "            verbose = 1,\n",
        "\n",
        "            epochs = 20,\n",
        ")"
      ]
    },
    {
      "cell_type": "markdown",
      "metadata": {
        "id": "tKOckG-KPyLg"
      },
      "source": [
        "### **Plotting the validation and training accuracies**"
      ]
    },
    {
      "cell_type": "code",
      "execution_count": null,
      "metadata": {
        "colab": {
          "base_uri": "https://localhost:8080/",
          "height": 497
        },
        "id": "lt77zgGMP4yw",
        "outputId": "441e3681-6b6b-40ad-ec50-d7fc9a8e0096"
      },
      "outputs": [
        {
          "output_type": "display_data",
          "data": {
            "text/plain": [
              "<Figure size 576x576 with 1 Axes>"
            ],
            "image/png": "[encoded data removed]"
          },
          "metadata": {
            "needs_background": "light"
          }
        }
      ],
      "source": [
        "# Plotting the accuracies\n",
        "\n",
        "dict_hist = history_model_1.history\n",
        "\n",
        "list_ep = [i for i in range(1, 21)]\n",
        "\n",
        "plt.figure(figsize = (8, 8))\n",
        "\n",
        "plt.plot(list_ep, dict_hist['accuracy'], ls = '--', label = 'accuracy')\n",
        "\n",
        "plt.plot(list_ep, dict_hist['val_accuracy'], ls = '--', label = 'val_accuracy')\n",
        "\n",
        "plt.ylabel('Accuracy')\n",
        "\n",
        "plt.xlabel('Epochs')\n",
        "\n",
        "plt.legend()\n",
        "\n",
        "plt.show()"
      ]
    },
    {
      "cell_type": "markdown",
      "metadata": {
        "id": "pGBbQpLONX7k"
      },
      "source": [
        "**Observations:** \n",
        "\n",
        "*   Based on the graph and the model_fit printout, the validation accuracy hovers between 0.87 & 0.86.\n",
        "*   The training accuracy steadily improves, but the major disparity demonstrates a generally poor model.\n",
        "*   The validation accuracy being so much lower than the training data suggests overfitting.\n",
        "\n",
        "\n",
        "\n",
        "\n",
        "\n",
        "  \n",
        "\n"
      ]
    },
    {
      "cell_type": "markdown",
      "metadata": {
        "id": "z0qgLMBZm5-K"
      },
      "source": [
        "Building another model to see if we can get a better model with generalized performance.\n"
      ]
    },
    {
      "cell_type": "code",
      "execution_count": null,
      "metadata": {
        "id": "y98BpLxsok_H"
      },
      "outputs": [],
      "source": [
        "# Clearing backend\n",
        "\n",
        "from tensorflow.keras import backend\n",
        "\n",
        "backend.clear_session()"
      ]
    },
    {
      "cell_type": "code",
      "execution_count": null,
      "metadata": {
        "id": "HbKi93HTolGW"
      },
      "outputs": [],
      "source": [
        "# Fixing the seed for random number generators\n",
        "\n",
        "np.random.seed(42)\n",
        "\n",
        "import random\n",
        "\n",
        "random.seed(42)\n",
        "\n",
        "tf.random.set_seed(42)"
      ]
    },
    {
      "cell_type": "code",
      "execution_count": null,
      "metadata": {
        "id": "EEPYLFIPnSDP"
      },
      "outputs": [],
      "source": [
        "# Define the model\n",
        "\n",
        "def cnn_model_2():\n",
        "    \n",
        "    model = Sequential()\n",
        "    \n",
        "    # Add layers as per the architecture mentioned above in the same sequence\n",
        "\n",
        "    model.add(Conv2D(filters = 16, kernel_size = (3, 3), padding = \"same\", input_shape = (32, 32, 1))) #first Convolutional layer with 16 filters and the kernel size of 3x3, and 'same' padding and provide the input shape = (32, 32, 1)\n",
        "\n",
        "    model.add(LeakyReLU(0.1))  #a LeakyRelu layer with the slope equal to 0.1\n",
        "\n",
        "    model.add(Conv2D(filters = 32, kernel_size = (3, 3), padding = 'same'))   #Second Convolutional layer with 32 filters and the kernel size of 3x3 with 'same' padding\n",
        "    \n",
        "    model.add(LeakyReLU(0.1)) #LeakyRelu with the slope equal to 0.1\n",
        "\n",
        "    model.add(MaxPooling2D(pool_size = (2, 2))) #max-pooling layer with a pool size of 2x2\n",
        "\n",
        "    model.add(BatchNormalization()) #a BatchNormalization layer\n",
        "\n",
        "    model.add(Conv2D(filters = 32, kernel_size = (3, 3), padding = 'same'))  #Third Convolutional layer with 32 filters and the kernel size of 3x3 with 'same' padding\n",
        "\n",
        "    model.add(LeakyReLU(0.1)) #a LeakyRelu layer with the slope equal to 0.1\n",
        "\n",
        "    model.add(Conv2D(filters = 64, kernel_size = (3, 3), padding = 'same'))  #Fourth Convolutional layer 64 filters and the kernel size of 3x3 with 'same' padding\n",
        "\n",
        "    model.add(LeakyReLU(0.1)) #LeakyRelu layer with the slope equal to 0.1\n",
        "\n",
        "    model.add(MaxPooling2D(pool_size = (2, 2))) #max-pooling layer with a pool size of 2x2\n",
        "\n",
        "    model.add(BatchNormalization()) #BatchNormalization layer\n",
        "\n",
        "    model.add(Flatten()) #Flatten the output from the previous layer\n",
        "\n",
        "    model.add(Dense(32)) #dense layer with 32 nodes\n",
        "\n",
        "    model.add(LeakyReLU(0.1))  #LeakyRelu layer with the slope equal to 0.1\n",
        "\n",
        "    model.add(Dropout(0.5)) #dropout layer with the rate equal to 0.5\n",
        "\n",
        "    model.add(Dense(10, activation = 'softmax')) #the final output layer with nodes equal to the number of classes, i.e., 10 and 'softmax' as the activation function\n",
        "\n",
        "    # Compile the model\n",
        "\n",
        "    model.compile(loss = 'categorical_crossentropy',   \n",
        "    optimizer = tf.keras.optimizers.Adam(learning_rate = 0.001),\n",
        "    metrics=['accuracy'])   #Compile the model with the categorical_crossentropy loss, adam optimizers (learning_rate = 0.001), and metric equal to 'accuracy'.\n",
        "      #was 'adamax' removed and put adam\n",
        "  \n",
        "    return model"
      ]
    },
    {
      "cell_type": "code",
      "execution_count": null,
      "metadata": {
        "id": "AKjDY4plnSFl"
      },
      "outputs": [],
      "source": [
        "# Build the model\n",
        "\n",
        "model_2 = cnn_model_2()"
      ]
    },
    {
      "cell_type": "code",
      "execution_count": null,
      "metadata": {
        "colab": {
          "base_uri": "https://localhost:8080/"
        },
        "id": "gz_6SVrU2swZ",
        "outputId": "34f03dda-29ff-4f48-b072-9d522b8f4640"
      },
      "outputs": [
        {
          "output_type": "stream",
          "name": "stdout",
          "text": [
            "Model: \"sequential\"\n",
            "_________________________________________________________________\n",
            " Layer (type)                Output Shape              Param #   \n",
            "=================================================================\n",
            " conv2d (Conv2D)             (None, 32, 32, 16)        160       \n",
            "                                                                 \n",
            " leaky_re_lu (LeakyReLU)     (None, 32, 32, 16)        0         \n",
            "                                                                 \n",
            " conv2d_1 (Conv2D)           (None, 32, 32, 32)        4640      \n",
            "                                                                 \n",
            " leaky_re_lu_1 (LeakyReLU)   (None, 32, 32, 32)        0         \n",
            "                                                                 \n",
            " max_pooling2d (MaxPooling2D  (None, 16, 16, 32)       0         \n",
            " )                                                               \n",
            "                                                                 \n",
            " batch_normalization (BatchN  (None, 16, 16, 32)       128       \n",
            " ormalization)                                                   \n",
            "                                                                 \n",
            " conv2d_2 (Conv2D)           (None, 16, 16, 32)        9248      \n",
            "                                                                 \n",
            " leaky_re_lu_2 (LeakyReLU)   (None, 16, 16, 32)        0         \n",
            "                                                                 \n",
            " conv2d_3 (Conv2D)           (None, 16, 16, 64)        18496     \n",
            "                                                                 \n",
            " leaky_re_lu_3 (LeakyReLU)   (None, 16, 16, 64)        0         \n",
            "                                                                 \n",
            " max_pooling2d_1 (MaxPooling  (None, 8, 8, 64)         0         \n",
            " 2D)                                                             \n",
            "                                                                 \n",
            " batch_normalization_1 (Batc  (None, 8, 8, 64)         256       \n",
            " hNormalization)                                                 \n",
            "                                                                 \n",
            " flatten (Flatten)           (None, 4096)              0         \n",
            "                                                                 \n",
            " dense (Dense)               (None, 32)                131104    \n",
            "                                                                 \n",
            " leaky_re_lu_4 (LeakyReLU)   (None, 32)                0         \n",
            "                                                                 \n",
            " dropout (Dropout)           (None, 32)                0         \n",
            "                                                                 \n",
            " dense_1 (Dense)             (None, 10)                330       \n",
            "                                                                 \n",
            "=================================================================\n",
            "Total params: 164,362\n",
            "Trainable params: 164,170\n",
            "Non-trainable params: 192\n",
            "_________________________________________________________________\n"
          ]
        }
      ],
      "source": [
        "# Print the summary\n",
        "\n",
        "model_2.summary()"
      ]
    },
    {
      "cell_type": "code",
      "execution_count": null,
      "metadata": {
        "colab": {
          "base_uri": "https://localhost:8080/"
        },
        "id": "IQ0Sc4R-y-uu",
        "outputId": "d4436997-a402-4769-e455-90384ea0620f"
      },
      "outputs": [
        {
          "output_type": "stream",
          "name": "stdout",
          "text": [
            "Epoch 1/30\n",
            "263/263 [==============================] - 4s 11ms/step - loss: 1.4594 - accuracy: 0.5021 - val_loss: 2.8997 - val_accuracy: 0.1329\n",
            "Epoch 2/30\n",
            "263/263 [==============================] - 2s 9ms/step - loss: 0.7008 - accuracy: 0.7826 - val_loss: 0.7336 - val_accuracy: 0.7721\n",
            "Epoch 3/30\n",
            "263/263 [==============================] - 2s 9ms/step - loss: 0.5597 - accuracy: 0.8285 - val_loss: 0.4459 - val_accuracy: 0.8746\n",
            "Epoch 4/30\n",
            "263/263 [==============================] - 3s 10ms/step - loss: 0.4972 - accuracy: 0.8469 - val_loss: 0.4365 - val_accuracy: 0.8774\n",
            "Epoch 5/30\n",
            "263/263 [==============================] - 3s 10ms/step - loss: 0.4510 - accuracy: 0.8624 - val_loss: 0.4096 - val_accuracy: 0.8894\n",
            "Epoch 6/30\n",
            "263/263 [==============================] - 3s 10ms/step - loss: 0.4118 - accuracy: 0.8733 - val_loss: 0.4522 - val_accuracy: 0.8649\n",
            "Epoch 7/30\n",
            "263/263 [==============================] - 2s 9ms/step - loss: 0.3825 - accuracy: 0.8832 - val_loss: 0.4237 - val_accuracy: 0.8758\n",
            "Epoch 8/30\n",
            "263/263 [==============================] - 3s 10ms/step - loss: 0.3596 - accuracy: 0.8878 - val_loss: 0.4710 - val_accuracy: 0.8757\n",
            "Epoch 9/30\n",
            "263/263 [==============================] - 3s 10ms/step - loss: 0.3382 - accuracy: 0.8934 - val_loss: 0.3727 - val_accuracy: 0.8935\n",
            "Epoch 10/30\n",
            "263/263 [==============================] - 3s 10ms/step - loss: 0.3218 - accuracy: 0.8999 - val_loss: 0.3709 - val_accuracy: 0.8996\n",
            "Epoch 11/30\n",
            "263/263 [==============================] - 3s 10ms/step - loss: 0.2991 - accuracy: 0.9046 - val_loss: 0.4046 - val_accuracy: 0.9001\n",
            "Epoch 12/30\n",
            "263/263 [==============================] - 3s 10ms/step - loss: 0.2853 - accuracy: 0.9104 - val_loss: 0.4123 - val_accuracy: 0.8980\n",
            "Epoch 13/30\n",
            "263/263 [==============================] - 3s 10ms/step - loss: 0.2762 - accuracy: 0.9133 - val_loss: 0.3790 - val_accuracy: 0.9017\n",
            "Epoch 14/30\n",
            "263/263 [==============================] - 3s 10ms/step - loss: 0.2585 - accuracy: 0.9177 - val_loss: 0.4108 - val_accuracy: 0.8951\n",
            "Epoch 15/30\n",
            "263/263 [==============================] - 3s 10ms/step - loss: 0.2480 - accuracy: 0.9198 - val_loss: 0.3614 - val_accuracy: 0.9030\n",
            "Epoch 16/30\n",
            "263/263 [==============================] - 3s 10ms/step - loss: 0.2366 - accuracy: 0.9240 - val_loss: 0.5852 - val_accuracy: 0.8517\n",
            "Epoch 17/30\n",
            "263/263 [==============================] - 3s 10ms/step - loss: 0.2299 - accuracy: 0.9257 - val_loss: 0.4072 - val_accuracy: 0.8935\n",
            "Epoch 18/30\n",
            "263/263 [==============================] - 3s 10ms/step - loss: 0.2226 - accuracy: 0.9268 - val_loss: 0.3736 - val_accuracy: 0.9026\n",
            "Epoch 19/30\n",
            "263/263 [==============================] - 3s 10ms/step - loss: 0.2219 - accuracy: 0.9279 - val_loss: 0.4467 - val_accuracy: 0.8945\n",
            "Epoch 20/30\n",
            "263/263 [==============================] - 3s 10ms/step - loss: 0.2047 - accuracy: 0.9331 - val_loss: 0.3853 - val_accuracy: 0.9073\n",
            "Epoch 21/30\n",
            "263/263 [==============================] - 3s 10ms/step - loss: 0.1975 - accuracy: 0.9348 - val_loss: 0.4107 - val_accuracy: 0.8956\n",
            "Epoch 22/30\n",
            "263/263 [==============================] - 3s 10ms/step - loss: 0.1833 - accuracy: 0.9395 - val_loss: 0.4733 - val_accuracy: 0.9004\n",
            "Epoch 23/30\n",
            "263/263 [==============================] - 3s 10ms/step - loss: 0.1828 - accuracy: 0.9389 - val_loss: 0.4509 - val_accuracy: 0.9055\n",
            "Epoch 24/30\n",
            "263/263 [==============================] - 3s 10ms/step - loss: 0.1824 - accuracy: 0.9394 - val_loss: 0.3818 - val_accuracy: 0.9102\n",
            "Epoch 25/30\n",
            "263/263 [==============================] - 3s 10ms/step - loss: 0.1712 - accuracy: 0.9434 - val_loss: 0.4277 - val_accuracy: 0.9048\n",
            "Epoch 26/30\n",
            "263/263 [==============================] - 3s 10ms/step - loss: 0.1683 - accuracy: 0.9445 - val_loss: 0.4243 - val_accuracy: 0.9130\n",
            "Epoch 27/30\n",
            "263/263 [==============================] - 3s 10ms/step - loss: 0.1708 - accuracy: 0.9426 - val_loss: 0.4829 - val_accuracy: 0.9044\n",
            "Epoch 28/30\n",
            "263/263 [==============================] - 3s 10ms/step - loss: 0.1606 - accuracy: 0.9460 - val_loss: 0.4800 - val_accuracy: 0.9073\n",
            "Epoch 29/30\n",
            "263/263 [==============================] - 3s 10ms/step - loss: 0.1521 - accuracy: 0.9483 - val_loss: 0.5223 - val_accuracy: 0.9029\n",
            "Epoch 30/30\n",
            "263/263 [==============================] - 3s 10ms/step - loss: 0.1546 - accuracy: 0.9494 - val_loss: 0.4853 - val_accuracy: 0.9089\n"
          ]
        }
      ],
      "source": [
        "# Fit the model on the train data with a validation split of 0.2, batch size = 128, verbose = 1, and epochs = 30. Store the model building history to use later for visualization.\n",
        "\n",
        "history_model_2 = model_2.fit(X_train, y_train,\n",
        "            \n",
        "            validation_split = 0.2,\n",
        "\n",
        "            batch_size = 128,\n",
        "            \n",
        "            verbose = 1,\n",
        "\n",
        "            epochs = 30,\n",
        ")"
      ]
    },
    {
      "cell_type": "markdown",
      "metadata": {
        "id": "zKCdy59GKDN1"
      },
      "source": [
        "### **Plotting the validation and training accuracies**"
      ]
    },
    {
      "cell_type": "code",
      "execution_count": null,
      "metadata": {
        "colab": {
          "base_uri": "https://localhost:8080/",
          "height": 497
        },
        "id": "01ig6BrF1KVy",
        "outputId": "9c302926-a7f9-4c65-8806-7edba7ab7313"
      },
      "outputs": [
        {
          "output_type": "display_data",
          "data": {
            "text/plain": [
              "<Figure size 576x576 with 1 Axes>"
            ],
            "image/png": "[encoded data removed]"
          },
          "metadata": {
            "needs_background": "light"
          }
        }
      ],
      "source": [
        "# Plotting the accuracies\n",
        "\n",
        "dict_hist = history_model_2.history\n",
        "\n",
        "list_ep = [i for i in range(1, 31)]\n",
        "\n",
        "plt.figure(figsize = (8, 8))\n",
        "\n",
        "plt.plot(list_ep, dict_hist['accuracy'], ls = '--', label = 'accuracy')\n",
        "\n",
        "plt.plot(list_ep, dict_hist['val_accuracy'], ls = '--', label = 'val_accuracy')\n",
        "\n",
        "plt.ylabel('Accuracy')\n",
        "\n",
        "plt.xlabel('Epochs')\n",
        "\n",
        "plt.legend()\n",
        "\n",
        "plt.show()"
      ]
    },
    {
      "cell_type": "markdown",
      "metadata": {
        "id": "VPW1LlD61RDn"
      },
      "source": [
        "**Observations:** \n",
        "\n",
        "\n",
        "*   Both Normalization and Drop out added to the model.\n",
        "*   Slight underfitting of validation test at first, but after 12 or so epochs, it stops, and training accuracy increases at a steady rate. \n",
        "*   Validation accuracy does not maintain the same improvement. \n",
        "*   There is still overfitting in the validation data, but it is overall better than the first model.\n",
        "\n",
        "\n",
        "\n"
      ]
    },
    {
      "cell_type": "code",
      "execution_count": null,
      "metadata": {
        "id": "xbWMEtTj5Ad0",
        "colab": {
          "base_uri": "https://localhost:8080/"
        },
        "outputId": "b58dbf5c-bab3-4e56-c200-36e7363ec6ae"
      },
      "outputs": [
        {
          "output_type": "stream",
          "name": "stdout",
          "text": [
            "563/563 [==============================] - 1s 2ms/step\n"
          ]
        }
      ],
      "source": [
        "# Make prediction on the test data using model_2 \n",
        "\n",
        "test_pred = model_2.predict(X_test)\n",
        "\n",
        "\n",
        "test_pred = np.argmax(test_pred, axis = -1)"
      ]
    },
    {
      "cell_type": "code",
      "execution_count": null,
      "metadata": {
        "id": "NByu7uAQ8x9P"
      },
      "outputs": [],
      "source": [
        "# Converting each entry to single label from one-hot encoded vector\n",
        "\n",
        "y_test = np.argmax(y_test, axis = -1)"
      ]
    },
    {
      "cell_type": "code",
      "execution_count": null,
      "metadata": {
        "colab": {
          "base_uri": "https://localhost:8080/",
          "height": 638
        },
        "id": "xRddeJ-3EHT1",
        "outputId": "1e52211e-0d9a-4eb0-96eb-a40c5e8b78c4"
      },
      "outputs": [
        {
          "output_type": "stream",
          "name": "stdout",
          "text": [
            "              precision    recall  f1-score   support\n",
            "\n",
            "           0       0.91      0.93      0.92      1814\n",
            "           1       0.88      0.92      0.90      1828\n",
            "           2       0.95      0.91      0.93      1803\n",
            "           3       0.90      0.86      0.88      1719\n",
            "           4       0.93      0.93      0.93      1812\n",
            "           5       0.90      0.91      0.90      1768\n",
            "           6       0.88      0.90      0.89      1832\n",
            "           7       0.95      0.89      0.92      1808\n",
            "           8       0.88      0.89      0.89      1812\n",
            "           9       0.89      0.91      0.90      1804\n",
            "\n",
            "    accuracy                           0.91     18000\n",
            "   macro avg       0.91      0.91      0.91     18000\n",
            "weighted avg       0.91      0.91      0.91     18000\n",
            "\n"
          ]
        },
        {
          "output_type": "display_data",
          "data": {
            "text/plain": [
              "<Figure size 576x360 with 2 Axes>"
            ],
            "image/png": "[encoded data removed]"
          },
          "metadata": {
            "needs_background": "light"
          }
        }
      ],
      "source": [
        "# Importing required functions\n",
        "\n",
        "from sklearn.metrics import classification_report\n",
        "\n",
        "from sklearn.metrics import confusion_matrix\n",
        "\n",
        "# Printing the classification report\n",
        "\n",
        "print(classification_report(y_test, test_pred))\n",
        "\n",
        "# Plotting the heatmap using confusion matrix\n",
        "\n",
        "cm = confusion_matrix(y_test, test_pred)\n",
        "\n",
        "plt.figure(figsize = (8, 5))\n",
        "\n",
        "sns.heatmap(cm, annot = True,  fmt = '.0f')\n",
        "\n",
        "plt.ylabel('Actual')\n",
        "\n",
        "plt.xlabel('Predicted')\n",
        "\n",
        "plt.show()"
      ]
    },
    {
      "cell_type": "markdown",
      "metadata": {
        "id": "DjErl4GA2u9s"
      },
      "source": [
        "**Final Observations:**\n",
        "\n",
        "\n",
        "*   The model is giving 0.90 percent accuracy. Not bad, but definitely would prefer to improve it in the future. \n",
        "*   More drop out is an option for improvement, as well as data augmentation\n",
        "*   There seems to be the most confusion with zeros and other numbers. Other general confusion results between various numbers with curves, and similarly, between numbers with straight lines as their shape.  \n",
        "\n",
        "\n",
        " "
      ]
    }
  ],
  "metadata": {
    "accelerator": "GPU",
    "colab": {
      "provenance": []
    },
    "kernelspec": {
      "display_name": "Python 3 (ipykernel)",
      "language": "python",
      "name": "python3"
    },
    "language_info": {
      "codemirror_mode": {
        "name": "ipython",
        "version": 3
      },
      "file_extension": ".py",
      "mimetype": "text/x-python",
      "name": "python",
      "nbconvert_exporter": "python",
      "pygments_lexer": "ipython3",
      "version": "3.9.7"
    }
  },
  "nbformat": 4,
  "nbformat_minor": 0
}